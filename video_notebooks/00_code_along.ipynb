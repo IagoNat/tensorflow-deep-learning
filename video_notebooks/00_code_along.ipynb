{
  "nbformat": 4,
  "nbformat_minor": 0,
  "metadata": {
    "colab": {
      "provenance": [],
      "authorship_tag": "ABX9TyOp/YWoSFRy6SWNxT3ghjLP"
    },
    "kernelspec": {
      "name": "python3",
      "display_name": "Python 3"
    },
    "language_info": {
      "name": "python"
    }
  },
  "cells": [
    {
      "cell_type": "code",
      "execution_count": null,
      "metadata": {
        "id": "5b5D1t4JcAhf"
      },
      "outputs": [],
      "source": []
    }
  ]
}